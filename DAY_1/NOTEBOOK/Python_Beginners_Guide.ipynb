{
  "cells": [
    {
      "cell_type": "markdown",
      "metadata": {
        "id": "aZHStiDWq11E"
      },
      "source": [
        "# Python for Beginners: A brief tutorial\n",
        "\n",
        "## Welcome to Python Programming!\n",
        "\n",
        "This comprehensive tutorial will teach you Python programming from the ground up. Python is a powerful, versatile programming language that's perfect for beginners and widely used in data science, web development, automation, and machine learning.\n",
        "\n",
        "### Some of the topics covered in this notebook:\n",
        "- **Basic Python Syntax**\n",
        "- **Variables and Data Types**\n",
        "- **Control Flow (if/else, loops)**\n",
        "- **Functions**\n",
        "- **Data Structures (lists, dictionaries)**\n",
        "- **Working with Files**\n",
        "- **Introduction to Libraries**\n",
        "- **Error Handling**\n",
        "- **Best Practices**\n",
        "\n",
        "Let's get started!"
      ]
    },
    {
      "cell_type": "markdown",
      "metadata": {
        "id": "yO8L1QP0q11F"
      },
      "source": [
        "## 1. Your First Python Code\n",
        "\n",
        "The traditional first program in any language is \"Hello, World!\". Let's start there:"
      ]
    },
    {
      "cell_type": "code",
      "execution_count": 1,
      "metadata": {
        "colab": {
          "base_uri": "https://localhost:8080/",
          "height": 87
        },
        "id": "r_NiIB70q11F",
        "outputId": "2509fefe-23a0-45f2-dca3-1c9c5739b541"
      },
      "outputs": [
        {
          "output_type": "stream",
          "name": "stdout",
          "text": [
            "Hello, World!\n",
            "Welcome to Python programming!\n"
          ]
        },
        {
          "output_type": "execute_result",
          "data": {
            "text/plain": [
              "'\\nMulti-line comments can be written like this.\\nYou can use triple quotes to create a multi-line comment.\\nThis is useful for documentation or explaining code.\\n'"
            ],
            "application/vnd.google.colaboratory.intrinsic+json": {
              "type": "string"
            }
          },
          "metadata": {},
          "execution_count": 1
        }
      ],
      "source": [
        "# This is a comment - anything after # is ignored by Python\n",
        "print(\"Hello, World!\")\n",
        "print(\"Welcome to Python programming!\")\n",
        "\n",
        "\"\"\"\n",
        "Multi-line comments can be written like this.\n",
        "You can use triple quotes to create a multi-line comment.\n",
        "This is useful for documentation or explaining code.\n",
        "\"\"\""
      ]
    },
    {
      "cell_type": "markdown",
      "metadata": {
        "id": "UcJwHSJCq11G"
      },
      "source": [
        "**Key Points:**\n",
        "- `print()` displays text on the screen\n",
        "- Text (strings) must be in quotes\n",
        "- Comments start with `#` and help explain your code\n",
        "- Python is case-sensitive"
      ]
    },
    {
      "cell_type": "markdown",
      "metadata": {
        "id": "X-bKvMT_q11G"
      },
      "source": [
        "## 2. Variables and Data Types\n",
        "\n",
        "Variables are containers that store data. Python has several built-in data types:"
      ]
    },
    {
      "cell_type": "code",
      "execution_count": 2,
      "metadata": {
        "colab": {
          "base_uri": "https://localhost:8080/"
        },
        "id": "g6_ufqwpq11G",
        "outputId": "37273095-058b-41d9-c248-4b3805d05bca"
      },
      "outputs": [
        {
          "output_type": "stream",
          "name": "stdout",
          "text": [
            "Name: Alice\n",
            "Age: 25\n",
            "Height: 5.9\n",
            "Is student: True\n"
          ]
        }
      ],
      "source": [
        "# Numbers\n",
        "age = 25                    # Integer (whole number)\n",
        "height = 5.9               # Float (decimal number)\n",
        "temperature = -10          # Negative number\n",
        "\n",
        "# Text\n",
        "name = \"Alice\"             # String (text)\n",
        "city = 'New York'          # Single or double quotes work\n",
        "\n",
        "# Boolean (True/False)\n",
        "is_student = True\n",
        "is_employed = False\n",
        "\n",
        "# Display the variables\n",
        "print(\"Name:\", name)\n",
        "print(\"Age:\", age)\n",
        "print(\"Height:\", height)\n",
        "print(\"Is student:\", is_student)"
      ]
    },
    {
      "cell_type": "code",
      "execution_count": 3,
      "metadata": {
        "colab": {
          "base_uri": "https://localhost:8080/"
        },
        "id": "yb29QWuSq11G",
        "outputId": "4524f9bb-2df9-411d-ecd6-e526751bb1cd"
      },
      "outputs": [
        {
          "output_type": "stream",
          "name": "stdout",
          "text": [
            "<class 'int'>\n",
            "<class 'float'>\n",
            "<class 'str'>\n",
            "<class 'bool'>\n"
          ]
        }
      ],
      "source": [
        "# Check data types\n",
        "print(type(age))           # <class 'int'>\n",
        "print(type(height))        # <class 'float'>\n",
        "print(type(name))          # <class 'str'>\n",
        "print(type(is_student))    # <class 'bool'>"
      ]
    },
    {
      "cell_type": "markdown",
      "metadata": {
        "id": "_XioMaD8q11H"
      },
      "source": [
        "**Key Points:**\n",
        "- Variables don't need to be declared with a type\n",
        "- Variable names should be descriptive\n",
        "- Use lowercase with underscores for variable names (snake_case)\n",
        "- Variables can be reassigned to different values"
      ]
    },
    {
      "cell_type": "markdown",
      "metadata": {
        "id": "_5Bsyw5Pq11H"
      },
      "source": [
        "## 3. Basic Operations\n",
        "\n",
        "Python supports various mathematical and logical operations:"
      ]
    },
    {
      "cell_type": "code",
      "execution_count": 4,
      "metadata": {
        "colab": {
          "base_uri": "https://localhost:8080/"
        },
        "id": "hPt3ZIrXq11H",
        "outputId": "9cd0b45c-ac53-4437-eb66-e14228372e7a"
      },
      "outputs": [
        {
          "output_type": "stream",
          "name": "stdout",
          "text": [
            "Addition: 13\n",
            "Subtraction: 7\n",
            "Multiplication: 30\n",
            "Division: 3.3333333333333335\n",
            "Integer division: 3\n",
            "Remainder: 1\n",
            "Power: 1000\n"
          ]
        }
      ],
      "source": [
        "# Mathematical operations\n",
        "a = 10\n",
        "b = 3\n",
        "\n",
        "print(\"Addition:\", a + b)        # 13\n",
        "print(\"Subtraction:\", a - b)     # 7\n",
        "print(\"Multiplication:\", a * b)  # 30\n",
        "print(\"Division:\", a / b)        # 3.333...\n",
        "print(\"Integer division:\", a // b) # 3\n",
        "print(\"Remainder:\", a % b)       # 1\n",
        "print(\"Power:\", a ** b)          # 1000"
      ]
    },
    {
      "cell_type": "code",
      "execution_count": 6,
      "metadata": {
        "colab": {
          "base_uri": "https://localhost:8080/"
        },
        "id": "I5jX17XRq11H",
        "outputId": "8f3a766a-9df0-4e75-9dce-2c237e6b00b3"
      },
      "outputs": [
        {
          "output_type": "stream",
          "name": "stdout",
          "text": [
            "Full name: John Doe\n",
            "Ho Ho Ho \n",
            "Length of name: 8\n"
          ]
        }
      ],
      "source": [
        "# String operations\n",
        "first_name = \"John\"\n",
        "last_name = \"Doe\"\n",
        "\n",
        "# Concatenation (joining strings)\n",
        "full_name = first_name + \" \" + last_name\n",
        "print(\"Full name:\", full_name)\n",
        "\n",
        "# String repetition\n",
        "print(\"Ho \" * 3)  # \"Ho Ho Ho \"\n",
        "\n",
        "# String length\n",
        "print(\"Length of name:\", len(full_name))"
      ]
    },
    {
      "cell_type": "markdown",
      "metadata": {
        "id": "bOIpMN1Cq11H"
      },
      "source": [
        "## 4. Getting User Input\n",
        "\n",
        "You can get input from users using the `input()` function:"
      ]
    },
    {
      "cell_type": "code",
      "execution_count": 7,
      "metadata": {
        "colab": {
          "base_uri": "https://localhost:8080/"
        },
        "id": "vYqyRrv3q11H",
        "outputId": "92d6e964-83fa-4377-d82f-4f1eae4ad465"
      },
      "outputs": [
        {
          "output_type": "stream",
          "name": "stdout",
          "text": [
            "What's your name? Özlem\n",
            "Hello, Özlem\n",
            "How old are you? 30\n",
            "Next year you'll be 31\n"
          ]
        }
      ],
      "source": [
        "# Note: input() always returns a string\n",
        "user_name = input(\"What's your name? \")\n",
        "print(\"Hello,\", user_name)\n",
        "\n",
        "# Converting input to numbers\n",
        "age_str = input(\"How old are you? \")\n",
        "age_num = int(age_str)  # Convert string to integer\n",
        "print(\"Next year you'll be\", age_num + 1)"
      ]
    },
    {
      "cell_type": "markdown",
      "metadata": {
        "id": "AGsci4FAq11H"
      },
      "source": [
        "## 5. Conditional Statements (if/else)\n",
        "\n",
        "Conditional statements let your program make decisions:"
      ]
    },
    {
      "cell_type": "code",
      "execution_count": 11,
      "metadata": {
        "colab": {
          "base_uri": "https://localhost:8080/"
        },
        "id": "dRqvLVxeq11H",
        "outputId": "4220af41-fa97-41c9-bc71-c95ae0d73d92"
      },
      "outputs": [
        {
          "output_type": "stream",
          "name": "stdout",
          "text": [
            "You are a child\n",
            "It's not too hot\n"
          ]
        }
      ],
      "source": [
        "# Simple if statement\n",
        "age = 5\n",
        "\n",
        "if age >= 18:\n",
        "    print(\"You are an adult\")\n",
        "else:\n",
        "    print(\"You are a child\")\n",
        "\n",
        "# if-else statement\n",
        "temperature = 25\n",
        "\n",
        "if temperature > 30:\n",
        "    print(\"It's hot outside!\")\n",
        "else:\n",
        "    print(\"It's not too hot\")"
      ]
    },
    {
      "cell_type": "code",
      "execution_count": 12,
      "metadata": {
        "colab": {
          "base_uri": "https://localhost:8080/"
        },
        "id": "g8OzqcYgq11H",
        "outputId": "b476890f-2c5d-461f-9651-66b0ffb43fa3"
      },
      "outputs": [
        {
          "output_type": "stream",
          "name": "stdout",
          "text": [
            "Your grade is: B\n"
          ]
        }
      ],
      "source": [
        "# Multiple conditions (if-elif-else)\n",
        "score = 85\n",
        "\n",
        "if score >= 90:\n",
        "    grade = \"A\"\n",
        "elif score >= 80:\n",
        "    grade = \"B\"\n",
        "elif score >= 70:\n",
        "    grade = \"C\"\n",
        "elif score >= 60:\n",
        "    grade = \"D\"\n",
        "else:\n",
        "    grade = \"F\"\n",
        "\n",
        "print(f\"Your grade is: {grade}\")"
      ]
    },
    {
      "cell_type": "code",
      "execution_count": 13,
      "metadata": {
        "colab": {
          "base_uri": "https://localhost:8080/"
        },
        "id": "S7T869Urq11H",
        "outputId": "8ce00c80-19ee-442c-bcdc-6a85073b0da6"
      },
      "outputs": [
        {
          "output_type": "stream",
          "name": "stdout",
          "text": [
            "False\n",
            "True\n",
            "True\n",
            "True\n",
            "False\n",
            "False\n"
          ]
        }
      ],
      "source": [
        "# Comparison operators\n",
        "x = 10\n",
        "y = 20\n",
        "\n",
        "print(x == y)    # Equal to: False\n",
        "print(x != y)    # Not equal to: True\n",
        "print(x < y)     # Less than: True\n",
        "print(x <= y)    # Less than or equal: True\n",
        "print(x > y)     # Greater than: False\n",
        "print(x >= y)    # Greater than or equal: False"
      ]
    },
    {
      "cell_type": "code",
      "execution_count": 14,
      "metadata": {
        "colab": {
          "base_uri": "https://localhost:8080/"
        },
        "id": "RGDoEIlrq11H",
        "outputId": "f2c03e6c-8f7f-4975-d114-2f4748af8004"
      },
      "outputs": [
        {
          "output_type": "stream",
          "name": "stdout",
          "text": [
            "You can drive!\n",
            "No work today!\n",
            "Good weather for a walk!\n"
          ]
        }
      ],
      "source": [
        "# Logical operators\n",
        "age = 25\n",
        "has_license = True\n",
        "\n",
        "# and: both conditions must be True\n",
        "if age >= 18 and has_license:\n",
        "    print(\"You can drive!\")\n",
        "\n",
        "# or: at least one condition must be True\n",
        "is_weekend = True\n",
        "is_holiday = False\n",
        "\n",
        "if is_weekend or is_holiday:\n",
        "    print(\"No work today!\")\n",
        "\n",
        "# not: reverses the boolean value\n",
        "is_raining = False\n",
        "if not is_raining:\n",
        "    print(\"Good weather for a walk!\")"
      ]
    },
    {
      "cell_type": "markdown",
      "metadata": {
        "id": "gTKX1zhRq11H"
      },
      "source": [
        "**Key Points:**\n",
        "- Python uses indentation (spaces/tabs) to group code blocks\n",
        "- Use 4 spaces for indentation (standard)\n",
        "- Colons `:` are required after if, elif, else statements"
      ]
    },
    {
      "cell_type": "markdown",
      "metadata": {
        "id": "Z7O6WxsQq11I"
      },
      "source": [
        "## 6. Loops\n",
        "\n",
        "Loops let you repeat code multiple times:"
      ]
    },
    {
      "cell_type": "code",
      "execution_count": 15,
      "metadata": {
        "colab": {
          "base_uri": "https://localhost:8080/"
        },
        "id": "hwN5TBE7q11I",
        "outputId": "2c1826cd-ecaf-4d5e-a1d2-4da31e05e75e"
      },
      "outputs": [
        {
          "output_type": "stream",
          "name": "stdout",
          "text": [
            "Counting from 1 to 5:\n",
            "1\n",
            "2\n",
            "3\n",
            "4\n",
            "5\n",
            "\n",
            "Counting by 2s:\n",
            "0\n",
            "2\n",
            "4\n",
            "6\n",
            "8\n",
            "10\n"
          ]
        }
      ],
      "source": [
        "# for loop - repeat a specific number of times\n",
        "print(\"Counting from 1 to 5:\")\n",
        "for i in range(1, 6):  # range(start, stop) - stop is not included\n",
        "    print(i)\n",
        "\n",
        "print(\"\\nCounting by 2s:\")\n",
        "for i in range(0, 11, 2):  # range(start, stop, step)\n",
        "    print(i)"
      ]
    },
    {
      "cell_type": "code",
      "execution_count": 16,
      "metadata": {
        "colab": {
          "base_uri": "https://localhost:8080/"
        },
        "id": "o9w0_e23q11I",
        "outputId": "75a0f468-8e0d-425b-eada-3873dc91d5de"
      },
      "outputs": [
        {
          "output_type": "stream",
          "name": "stdout",
          "text": [
            "Countdown:\n",
            "1\n",
            "2\n",
            "3\n",
            "4\n",
            "5\n",
            "Done!\n"
          ]
        }
      ],
      "source": [
        "# while loop - repeat while a condition is true\n",
        "count = 1\n",
        "print(\"Countdown:\")\n",
        "\n",
        "while count <= 5:\n",
        "    print(count)\n",
        "    count = count + 1  # Same as: count += 1\n",
        "\n",
        "print(\"Done!\")"
      ]
    },
    {
      "cell_type": "code",
      "execution_count": 18,
      "metadata": {
        "colab": {
          "base_uri": "https://localhost:8080/"
        },
        "id": "ucw-ycFBq11I",
        "outputId": "553ed9a4-850d-4c52-8d74-3bab21c35388"
      },
      "outputs": [
        {
          "output_type": "stream",
          "name": "stdout",
          "text": [
            "Finding first number divisible by 7:\n",
            "Found it: 7\n",
            "\n",
            "Skipping even numbers:\n",
            "1\n",
            "3\n",
            "5\n",
            "7\n",
            "9\n"
          ]
        }
      ],
      "source": [
        "# Loop control: break and continue\n",
        "print(\"Finding first number divisible by 7:\")\n",
        "for num in range(1, 20):\n",
        "    if num % 7 == 0:\n",
        "        print(f\"Found it: {num}\")\n",
        "        break  # Exit the loop\n",
        "\n",
        "print(\"\\nSkipping even numbers:\")\n",
        "for num in range(1, 10):\n",
        "    if num % 2 == 0:\n",
        "        continue  # Skip to next iteration\n",
        "    print(num)"
      ]
    },
    {
      "cell_type": "markdown",
      "metadata": {
        "id": "sQosR6Dvq11I"
      },
      "source": [
        "## 7. Lists\n",
        "\n",
        "Lists are ordered collections that can store multiple items:"
      ]
    },
    {
      "cell_type": "code",
      "execution_count": 19,
      "metadata": {
        "colab": {
          "base_uri": "https://localhost:8080/"
        },
        "id": "Eeh8sBONq11I",
        "outputId": "8652b8da-6682-4bcc-d0da-b32b0a73bdab"
      },
      "outputs": [
        {
          "output_type": "stream",
          "name": "stdout",
          "text": [
            "Fruits: ['apple', 'banana', 'orange', 'grape']\n",
            "Numbers: [1, 2, 3, 4, 5]\n",
            "Mixed: ['hello', 42, True, 3.14]\n"
          ]
        }
      ],
      "source": [
        "# Creating lists\n",
        "fruits = [\"apple\", \"banana\", \"orange\", \"grape\"]\n",
        "numbers = [1, 2, 3, 4, 5]\n",
        "mixed = [\"hello\", 42, True, 3.14]\n",
        "\n",
        "print(\"Fruits:\", fruits)\n",
        "print(\"Numbers:\", numbers)\n",
        "print(\"Mixed:\", mixed)"
      ]
    },
    {
      "cell_type": "code",
      "execution_count": 20,
      "metadata": {
        "colab": {
          "base_uri": "https://localhost:8080/"
        },
        "id": "D1FU9dplq11I",
        "outputId": "ca93de63-949d-47c5-9d39-31e126b6efb0"
      },
      "outputs": [
        {
          "output_type": "stream",
          "name": "stdout",
          "text": [
            "First fruit: apple\n",
            "Second fruit: banana\n",
            "Last fruit: grape\n",
            "Number of fruits: 4\n"
          ]
        }
      ],
      "source": [
        "# Accessing list elements (indexing starts at 0)\n",
        "print(\"First fruit:\", fruits[0])    # apple\n",
        "print(\"Second fruit:\", fruits[1])   # banana\n",
        "print(\"Last fruit:\", fruits[-1])    # grape (negative indexing)\n",
        "\n",
        "# List length\n",
        "print(\"Number of fruits:\", len(fruits))"
      ]
    },
    {
      "cell_type": "code",
      "execution_count": 21,
      "metadata": {
        "colab": {
          "base_uri": "https://localhost:8080/"
        },
        "id": "w3ZOXPMoq11I",
        "outputId": "b0732ebe-28f7-4437-b6e0-44afbaf7c3f4"
      },
      "outputs": [
        {
          "output_type": "stream",
          "name": "stdout",
          "text": [
            "Original list: ['milk', 'bread', 'eggs']\n",
            "After adding: ['milk', 'butter', 'bread', 'eggs', 'cheese']\n",
            "After removing: ['milk', 'butter', 'eggs']\n",
            "Removed item: cheese\n"
          ]
        }
      ],
      "source": [
        "# Modifying lists\n",
        "shopping_list = [\"milk\", \"bread\", \"eggs\"]\n",
        "print(\"Original list:\", shopping_list)\n",
        "\n",
        "# Add items\n",
        "shopping_list.append(\"cheese\")        # Add to end\n",
        "shopping_list.insert(1, \"butter\")     # Insert at position 1\n",
        "print(\"After adding:\", shopping_list)\n",
        "\n",
        "# Remove items\n",
        "shopping_list.remove(\"bread\")         # Remove specific item\n",
        "last_item = shopping_list.pop()       # Remove and return last item\n",
        "print(\"After removing:\", shopping_list)\n",
        "print(\"Removed item:\", last_item)"
      ]
    },
    {
      "cell_type": "code",
      "execution_count": 22,
      "metadata": {
        "colab": {
          "base_uri": "https://localhost:8080/"
        },
        "id": "Jzmb3st_q11I",
        "outputId": "b52b0b01-d997-4443-83f9-c49aef4132a1"
      },
      "outputs": [
        {
          "output_type": "stream",
          "name": "stdout",
          "text": [
            "Method 1 - Direct iteration:\n",
            "I like red\n",
            "I like green\n",
            "I like blue\n",
            "I like yellow\n",
            "\n",
            "Method 2 - With index:\n",
            "0: red\n",
            "1: green\n",
            "2: blue\n",
            "3: yellow\n",
            "\n",
            "Method 3 - With enumerate:\n",
            "0: red\n",
            "1: green\n",
            "2: blue\n",
            "3: yellow\n"
          ]
        }
      ],
      "source": [
        "# Looping through lists\n",
        "colors = [\"red\", \"green\", \"blue\", \"yellow\"]\n",
        "\n",
        "print(\"Method 1 - Direct iteration:\")\n",
        "for color in colors:\n",
        "    print(f\"I like {color}\")\n",
        "\n",
        "print(\"\\nMethod 2 - With index:\")\n",
        "for i in range(len(colors)):\n",
        "    print(f\"{i}: {colors[i]}\")\n",
        "\n",
        "print(\"\\nMethod 3 - With enumerate:\")\n",
        "for index, color in enumerate(colors):\n",
        "    print(f\"{index}: {color}\")"
      ]
    },
    {
      "cell_type": "code",
      "execution_count": 23,
      "metadata": {
        "colab": {
          "base_uri": "https://localhost:8080/"
        },
        "id": "LzHQ69Bgq11I",
        "outputId": "c6c4d42c-8749-4d88-f737-08e0a0379429"
      },
      "outputs": [
        {
          "output_type": "stream",
          "name": "stdout",
          "text": [
            "Full list: [0, 1, 2, 3, 4, 5, 6, 7, 8, 9]\n",
            "First 3: [0, 1, 2]\n",
            "Last 3: [7, 8, 9]\n",
            "Middle: [2, 3, 4, 5, 6]\n",
            "Every 2nd: [0, 2, 4, 6, 8]\n",
            "Reversed: [9, 8, 7, 6, 5, 4, 3, 2, 1, 0]\n"
          ]
        }
      ],
      "source": [
        "# List slicing\n",
        "numbers = [0, 1, 2, 3, 4, 5, 6, 7, 8, 9]\n",
        "\n",
        "print(\"Full list:\", numbers)\n",
        "print(\"First 3:\", numbers[:3])        # [0, 1, 2]\n",
        "print(\"Last 3:\", numbers[-3:])        # [7, 8, 9]\n",
        "print(\"Middle:\", numbers[2:7])        # [2, 3, 4, 5, 6]\n",
        "print(\"Every 2nd:\", numbers[::2])     # [0, 2, 4, 6, 8]\n",
        "print(\"Reversed:\", numbers[::-1])     # [9, 8, 7, 6, 5, 4, 3, 2, 1, 0]"
      ]
    },
    {
      "cell_type": "markdown",
      "metadata": {
        "id": "25Ws8GHMq11I"
      },
      "source": [
        "## 8. Dictionaries\n",
        "\n",
        "Dictionaries store data as key-value pairs:"
      ]
    },
    {
      "cell_type": "code",
      "execution_count": 24,
      "metadata": {
        "colab": {
          "base_uri": "https://localhost:8080/"
        },
        "id": "xj_LxrqZq11I",
        "outputId": "b50b3b83-66f3-4332-ff9b-1cd11a53726d"
      },
      "outputs": [
        {
          "output_type": "stream",
          "name": "stdout",
          "text": [
            "Person: {'name': 'Alice', 'age': 30, 'city': 'New York', 'is_student': False}\n",
            "Name: Alice\n",
            "Age: 30\n"
          ]
        }
      ],
      "source": [
        "# Creating dictionaries\n",
        "person = {\n",
        "    \"name\": \"Alice\",\n",
        "    \"age\": 30,\n",
        "    \"city\": \"New York\",\n",
        "    \"is_student\": False\n",
        "}\n",
        "\n",
        "print(\"Person:\", person)\n",
        "print(\"Name:\", person[\"name\"])\n",
        "print(\"Age:\", person[\"age\"])"
      ]
    },
    {
      "cell_type": "code",
      "execution_count": 25,
      "metadata": {
        "colab": {
          "base_uri": "https://localhost:8080/"
        },
        "id": "cuH90p73q11I",
        "outputId": "4b04957a-75f2-4a9f-d512-085b3610d883"
      },
      "outputs": [
        {
          "output_type": "stream",
          "name": "stdout",
          "text": [
            "Updated person: {'name': 'Alice', 'age': 31, 'city': 'New York', 'is_student': False, 'job': 'Engineer'}\n",
            "Phone: Not provided\n",
            "After deletion: {'name': 'Alice', 'age': 31, 'city': 'New York', 'job': 'Engineer'}\n"
          ]
        }
      ],
      "source": [
        "# Modifying dictionaries\n",
        "person[\"age\"] = 31                    # Update existing key\n",
        "person[\"job\"] = \"Engineer\"            # Add new key\n",
        "print(\"Updated person:\", person)\n",
        "\n",
        "# Safe access with get()\n",
        "print(\"Phone:\", person.get(\"phone\", \"Not provided\"))  # Default value if key doesn't exist\n",
        "\n",
        "# Remove items\n",
        "del person[\"is_student\"]              # Remove key-value pair\n",
        "print(\"After deletion:\", person)"
      ]
    },
    {
      "cell_type": "code",
      "execution_count": 26,
      "metadata": {
        "colab": {
          "base_uri": "https://localhost:8080/"
        },
        "id": "xG-xX_16q11I",
        "outputId": "7d5e4052-d449-4e06-a6ce-6f7b63d7308d"
      },
      "outputs": [
        {
          "output_type": "stream",
          "name": "stdout",
          "text": [
            "All keys:\n",
            "math\n",
            "science\n",
            "english\n",
            "history\n",
            "\n",
            "All values:\n",
            "85\n",
            "92\n",
            "78\n",
            "88\n",
            "\n",
            "Key-value pairs:\n",
            "math: 85\n",
            "science: 92\n",
            "english: 78\n",
            "history: 88\n"
          ]
        }
      ],
      "source": [
        "# Looping through dictionaries\n",
        "grades = {\"math\": 85, \"science\": 92, \"english\": 78, \"history\": 88}\n",
        "\n",
        "print(\"All keys:\")\n",
        "for subject in grades.keys():\n",
        "    print(subject)\n",
        "\n",
        "print(\"\\nAll values:\")\n",
        "for grade in grades.values():\n",
        "    print(grade)\n",
        "\n",
        "print(\"\\nKey-value pairs:\")\n",
        "for subject, grade in grades.items():\n",
        "    print(f\"{subject}: {grade}\")"
      ]
    },
    {
      "cell_type": "markdown",
      "metadata": {
        "id": "O4GrWx35q11I"
      },
      "source": [
        "## 9. Functions\n",
        "\n",
        "Functions are reusable blocks of code that perform specific tasks:"
      ]
    },
    {
      "cell_type": "code",
      "execution_count": 27,
      "metadata": {
        "colab": {
          "base_uri": "https://localhost:8080/"
        },
        "id": "eSg52GcTq11I",
        "outputId": "6b1963de-7fe8-47c9-c736-616aca402a0c"
      },
      "outputs": [
        {
          "output_type": "stream",
          "name": "stdout",
          "text": [
            "Hello, World!\n"
          ]
        }
      ],
      "source": [
        "# Simple function\n",
        "def greet():\n",
        "    print(\"Hello, World!\")\n",
        "\n",
        "# Call the function\n",
        "greet()"
      ]
    },
    {
      "cell_type": "code",
      "execution_count": 28,
      "metadata": {
        "colab": {
          "base_uri": "https://localhost:8080/"
        },
        "id": "wuzqwWpBq11J",
        "outputId": "c42d632b-e53e-4997-8cd0-dd2a0d616cb7"
      },
      "outputs": [
        {
          "output_type": "stream",
          "name": "stdout",
          "text": [
            "Hello, Alice!\n",
            "Good morning, Bob!\n"
          ]
        }
      ],
      "source": [
        "# Function with parameters\n",
        "def greet_person(name):\n",
        "    print(f\"Hello, {name}!\")\n",
        "\n",
        "def greet_with_time(name, time_of_day):\n",
        "    print(f\"Good {time_of_day}, {name}!\")\n",
        "\n",
        "# Call functions with arguments\n",
        "greet_person(\"Alice\")\n",
        "greet_with_time(\"Bob\", \"morning\")"
      ]
    },
    {
      "cell_type": "code",
      "execution_count": 29,
      "metadata": {
        "colab": {
          "base_uri": "https://localhost:8080/"
        },
        "id": "RCmLyoqvq11J",
        "outputId": "4eb17bde-70c5-4c47-868b-3e6c4eb87fb8"
      },
      "outputs": [
        {
          "output_type": "stream",
          "name": "stdout",
          "text": [
            "Sum: 8\n",
            "Area: 50\n"
          ]
        }
      ],
      "source": [
        "# Functions that return values\n",
        "def add_numbers(a, b):\n",
        "    result = a + b\n",
        "    return result\n",
        "\n",
        "def calculate_area(length, width):\n",
        "    return length * width\n",
        "\n",
        "# Use returned values\n",
        "sum_result = add_numbers(5, 3)\n",
        "print(\"Sum:\", sum_result)\n",
        "\n",
        "area = calculate_area(10, 5)\n",
        "print(\"Area:\", area)"
      ]
    },
    {
      "cell_type": "code",
      "execution_count": 30,
      "metadata": {
        "colab": {
          "base_uri": "https://localhost:8080/"
        },
        "id": "X044xR40q11J",
        "outputId": "5978500b-f274-4450-dc80-8280a0dba94e"
      },
      "outputs": [
        {
          "output_type": "stream",
          "name": "stdout",
          "text": [
            "Hi, I'm Alice. I'm 25 years old from Unknown.\n",
            "Hi, I'm Bob. I'm 30 years old from Unknown.\n",
            "Hi, I'm Charlie. I'm 28 years old from London.\n",
            "Hi, I'm Diana. I'm 25 years old from Paris.\n"
          ]
        }
      ],
      "source": [
        "# Functions with default parameters\n",
        "def introduce(name, age=25, city=\"Unknown\"):\n",
        "    print(f\"Hi, I'm {name}. I'm {age} years old from {city}.\")\n",
        "\n",
        "# Different ways to call the function\n",
        "introduce(\"Alice\")\n",
        "introduce(\"Bob\", 30)\n",
        "introduce(\"Charlie\", 28, \"London\")\n",
        "introduce(\"Diana\", city=\"Paris\")  # Using keyword arguments"
      ]
    },
    {
      "cell_type": "code",
      "execution_count": 31,
      "metadata": {
        "colab": {
          "base_uri": "https://localhost:8080/"
        },
        "id": "CfXe2X1bq11J",
        "outputId": "b1b9b53b-09b9-49eb-940c-c3cbd5cf5eb0"
      },
      "outputs": [
        {
          "output_type": "stream",
          "name": "stdout",
          "text": [
            "25°C is 77.0°F\n",
            "77°F is 25.0°C\n"
          ]
        }
      ],
      "source": [
        "# Practical example: Temperature converter\n",
        "def celsius_to_fahrenheit(celsius):\n",
        "    \"\"\"Convert Celsius to Fahrenheit\"\"\"\n",
        "    fahrenheit = (celsius * 9/5) + 32\n",
        "    return fahrenheit\n",
        "\n",
        "def fahrenheit_to_celsius(fahrenheit):\n",
        "    \"\"\"Convert Fahrenheit to Celsius\"\"\"\n",
        "    celsius = (fahrenheit - 32) * 5/9\n",
        "    return celsius\n",
        "\n",
        "# Test the functions\n",
        "temp_c = 25\n",
        "temp_f = celsius_to_fahrenheit(temp_c)\n",
        "print(f\"{temp_c}°C is {temp_f}°F\")\n",
        "\n",
        "temp_f = 77\n",
        "temp_c = fahrenheit_to_celsius(temp_f)\n",
        "print(f\"{temp_f}°F is {temp_c:.1f}°C\")"
      ]
    },
    {
      "cell_type": "markdown",
      "metadata": {
        "id": "b3isZ6tMq11J"
      },
      "source": [
        "## 10. Working with Files\n",
        "\n",
        "Python can read from and write to files:"
      ]
    },
    {
      "cell_type": "code",
      "execution_count": 32,
      "metadata": {
        "colab": {
          "base_uri": "https://localhost:8080/"
        },
        "id": "EnvktaLvq11J",
        "outputId": "a39ed3d4-9042-4a48-93b6-56341093c946"
      },
      "outputs": [
        {
          "output_type": "stream",
          "name": "stdout",
          "text": [
            "Shopping list saved to file!\n"
          ]
        }
      ],
      "source": [
        "# Writing to a file\n",
        "def write_shopping_list():\n",
        "    items = [\"milk\", \"bread\", \"eggs\", \"cheese\", \"apples\"]\n",
        "\n",
        "    with open(\"shopping_list.txt\", \"w\") as file:\n",
        "        file.write(\"Shopping List\\n\")\n",
        "        file.write(\"=============\\n\")\n",
        "        for item in items:\n",
        "            file.write(f\"- {item}\\n\")\n",
        "\n",
        "    print(\"Shopping list saved to file!\")\n",
        "\n",
        "write_shopping_list()"
      ]
    },
    {
      "cell_type": "code",
      "execution_count": 33,
      "metadata": {
        "colab": {
          "base_uri": "https://localhost:8080/"
        },
        "id": "c_1Y5LGYq11J",
        "outputId": "5ecb90b5-fe5c-4b3b-e9b4-dddf3f25d563"
      },
      "outputs": [
        {
          "output_type": "stream",
          "name": "stdout",
          "text": [
            "File contents:\n",
            "Shopping List\n",
            "=============\n",
            "- milk\n",
            "- bread\n",
            "- eggs\n",
            "- cheese\n",
            "- apples\n",
            "\n"
          ]
        }
      ],
      "source": [
        "# Reading from a file\n",
        "def read_shopping_list():\n",
        "    try:\n",
        "        with open(\"shopping_list.txt\", \"r\") as file:\n",
        "            content = file.read()\n",
        "            print(\"File contents:\")\n",
        "            print(content)\n",
        "    except FileNotFoundError:\n",
        "        print(\"File not found!\")\n",
        "\n",
        "read_shopping_list()"
      ]
    },
    {
      "cell_type": "code",
      "execution_count": 34,
      "metadata": {
        "colab": {
          "base_uri": "https://localhost:8080/"
        },
        "id": "M68g5bC0q11J",
        "outputId": "3cc8e46f-b54d-4b80-9737-f115f2b53e3b"
      },
      "outputs": [
        {
          "output_type": "stream",
          "name": "stdout",
          "text": [
            "Line by line:\n",
            "Line 1: Shopping List\n",
            "Line 2: =============\n",
            "Line 3: - milk\n",
            "Line 4: - bread\n",
            "Line 5: - eggs\n",
            "Line 6: - cheese\n",
            "Line 7: - apples\n"
          ]
        }
      ],
      "source": [
        "# Reading line by line\n",
        "def read_lines():\n",
        "    try:\n",
        "        with open(\"shopping_list.txt\", \"r\") as file:\n",
        "            lines = file.readlines()\n",
        "            print(\"Line by line:\")\n",
        "            for i, line in enumerate(lines, 1):\n",
        "                print(f\"Line {i}: {line.strip()}\")\n",
        "    except FileNotFoundError:\n",
        "        print(\"File not found!\")\n",
        "\n",
        "read_lines()"
      ]
    },
    {
      "cell_type": "markdown",
      "metadata": {
        "id": "cYpYkUXSq11J"
      },
      "source": [
        "## 11. Error Handling\n",
        "\n",
        "Handle errors gracefully with try-except blocks:"
      ]
    },
    {
      "cell_type": "code",
      "execution_count": 35,
      "metadata": {
        "colab": {
          "base_uri": "https://localhost:8080/"
        },
        "id": "_adff6U9q11J",
        "outputId": "d6599b11-6ca4-452e-f8ea-1d78e7749b35"
      },
      "outputs": [
        {
          "output_type": "stream",
          "name": "stdout",
          "text": [
            "5.0\n",
            "Error: Cannot divide by zero!\n",
            "None\n",
            "Error: Please provide numbers only!\n",
            "None\n"
          ]
        }
      ],
      "source": [
        "# Basic error handling\n",
        "def safe_divide(a, b):\n",
        "    try:\n",
        "        result = a / b\n",
        "        return result\n",
        "    except ZeroDivisionError:\n",
        "        print(\"Error: Cannot divide by zero!\")\n",
        "        return None\n",
        "    except TypeError:\n",
        "        print(\"Error: Please provide numbers only!\")\n",
        "        return None\n",
        "\n",
        "# Test the function\n",
        "print(safe_divide(10, 2))    # Works fine\n",
        "print(safe_divide(10, 0))    # Division by zero\n",
        "print(safe_divide(10, \"a\"))  # Type error"
      ]
    },
    {
      "cell_type": "code",
      "execution_count": 36,
      "metadata": {
        "id": "smAUnBc7q11J"
      },
      "outputs": [],
      "source": [
        "# Input validation\n",
        "def get_number_input(prompt):\n",
        "    while True:\n",
        "        try:\n",
        "            value = float(input(prompt))\n",
        "            return value\n",
        "        except ValueError:\n",
        "            print(\"Please enter a valid number!\")\n",
        "\n",
        "# Example usage (uncomment to test interactively)\n",
        "# num = get_number_input(\"Enter a number: \")\n",
        "# print(f\"You entered: {num}\")"
      ]
    },
    {
      "cell_type": "markdown",
      "metadata": {
        "id": "YEtDLg_yq11J"
      },
      "source": [
        "## 12. Introduction to Libraries\n",
        "\n",
        "Python has many built-in libraries and external packages:"
      ]
    },
    {
      "cell_type": "code",
      "execution_count": 37,
      "metadata": {
        "colab": {
          "base_uri": "https://localhost:8080/"
        },
        "id": "8Ova3_yYq11J",
        "outputId": "bb0bdded-d9fc-42d8-d9ac-423340c978c9"
      },
      "outputs": [
        {
          "output_type": "stream",
          "name": "stdout",
          "text": [
            "Pi: 3.141592653589793\n",
            "Square root of 16: 4.0\n",
            "2 to the power of 3: 8.0\n",
            "Ceiling of 4.3: 5\n",
            "Floor of 4.7: 4\n"
          ]
        }
      ],
      "source": [
        "# Math library\n",
        "import math\n",
        "\n",
        "print(\"Pi:\", math.pi)\n",
        "print(\"Square root of 16:\", math.sqrt(16))\n",
        "print(\"2 to the power of 3:\", math.pow(2, 3))\n",
        "print(\"Ceiling of 4.3:\", math.ceil(4.3))\n",
        "print(\"Floor of 4.7:\", math.floor(4.7))"
      ]
    },
    {
      "cell_type": "code",
      "execution_count": 38,
      "metadata": {
        "colab": {
          "base_uri": "https://localhost:8080/"
        },
        "id": "EuAqwcHgq11J",
        "outputId": "78472f5c-a233-47a5-cca3-a17aca042015"
      },
      "outputs": [
        {
          "output_type": "stream",
          "name": "stdout",
          "text": [
            "Random number (0-1): 0.9175956100954896\n",
            "Random integer (1-10): 4\n",
            "Random color: yellow\n",
            "Shuffled numbers: [2, 5, 4, 3, 1]\n"
          ]
        }
      ],
      "source": [
        "# Random library\n",
        "import random\n",
        "\n",
        "print(\"Random number (0-1):\", random.random())\n",
        "print(\"Random integer (1-10):\", random.randint(1, 10))\n",
        "\n",
        "colors = [\"red\", \"green\", \"blue\", \"yellow\"]\n",
        "print(\"Random color:\", random.choice(colors))\n",
        "\n",
        "numbers = [1, 2, 3, 4, 5]\n",
        "random.shuffle(numbers)\n",
        "print(\"Shuffled numbers:\", numbers)"
      ]
    },
    {
      "cell_type": "code",
      "execution_count": 39,
      "metadata": {
        "colab": {
          "base_uri": "https://localhost:8080/"
        },
        "id": "NK-oCzBIq11K",
        "outputId": "5e701187-01ac-466f-d21e-0750e97a3035"
      },
      "outputs": [
        {
          "output_type": "stream",
          "name": "stdout",
          "text": [
            "Current date and time: 2025-06-02 13:11:16.982900\n",
            "Today's date: 2025-06-02\n",
            "Formatted date: June 02, 2025\n",
            "Formatted time: 13:11:16\n"
          ]
        }
      ],
      "source": [
        "# Datetime library\n",
        "from datetime import datetime, date\n",
        "\n",
        "now = datetime.now()\n",
        "today = date.today()\n",
        "\n",
        "print(\"Current date and time:\", now)\n",
        "print(\"Today's date:\", today)\n",
        "print(\"Formatted date:\", now.strftime(\"%B %d, %Y\"))\n",
        "print(\"Formatted time:\", now.strftime(\"%H:%M:%S\"))"
      ]
    },
    {
      "cell_type": "markdown",
      "metadata": {
        "id": "iYVskKisq11K"
      },
      "source": [
        "## 13. Practical Examples\n",
        "\n",
        "Let's put it all together with some practical examples:"
      ]
    },
    {
      "cell_type": "code",
      "execution_count": 58,
      "metadata": {
        "colab": {
          "base_uri": "https://localhost:8080/",
          "height": 176
        },
        "id": "38eGT0Ivq11K",
        "outputId": "0d2fa6f0-93e6-4b11-d12a-4c9c297a3924"
      },
      "outputs": [
        {
          "output_type": "error",
          "ename": "TypeError",
          "evalue": "calculator() got an unexpected keyword argument 'num1'",
          "traceback": [
            "\u001b[0;31m---------------------------------------------------------------------------\u001b[0m",
            "\u001b[0;31mTypeError\u001b[0m                                 Traceback (most recent call last)",
            "\u001b[0;32m<ipython-input-58-5b7578477615>\u001b[0m in \u001b[0;36m<cell line: 0>\u001b[0;34m()\u001b[0m\n\u001b[1;32m     40\u001b[0m \u001b[0;34m\u001b[0m\u001b[0m\n\u001b[1;32m     41\u001b[0m \u001b[0;31m# Uncomment to run interactively\u001b[0m\u001b[0;34m\u001b[0m\u001b[0;34m\u001b[0m\u001b[0m\n\u001b[0;32m---> 42\u001b[0;31m \u001b[0mprint\u001b[0m\u001b[0;34m(\u001b[0m\u001b[0mcalculator\u001b[0m\u001b[0;34m(\u001b[0m\u001b[0mnum1\u001b[0m\u001b[0;34m=\u001b[0m\u001b[0;34m\"5\"\u001b[0m\u001b[0;34m,\u001b[0m\u001b[0moperation\u001b[0m\u001b[0;34m=\u001b[0m\u001b[0;34m\"+\"\u001b[0m\u001b[0;34m,\u001b[0m\u001b[0mnum2\u001b[0m\u001b[0;34m=\u001b[0m\u001b[0;34m\"5\"\u001b[0m\u001b[0;34m)\u001b[0m\u001b[0;34m)\u001b[0m\u001b[0;34m\u001b[0m\u001b[0;34m\u001b[0m\u001b[0m\n\u001b[0m",
            "\u001b[0;31mTypeError\u001b[0m: calculator() got an unexpected keyword argument 'num1'"
          ]
        }
      ],
      "source": [
        "# Example 1: Simple calculator\n",
        "\n",
        "def calculator():\n",
        "    print(\"Simple Calculator\")\n",
        "    print(\"Available operations: +, -, *, /\")\n",
        "\n",
        "    while True:\n",
        "        try:\n",
        "            num1 = float(input(\"Enter first number (or 'quit' to exit): \"))\n",
        "            if str(num1).lower() == 'quit':\n",
        "                break\n",
        "\n",
        "            operation = input(\"Enter operation (+, -, *, /): \")\n",
        "            num2 = float(input(\"Enter second number: \"))\n",
        "\n",
        "            if operation == \"+\":\n",
        "                result = num1 + num2\n",
        "            elif operation == \"-\":\n",
        "                result = num1 - num2\n",
        "            elif operation == \"*\":\n",
        "                result = num1 * num2\n",
        "            elif operation == \"/\":\n",
        "                if num2 != 0:\n",
        "                    result = num1 / num2\n",
        "                else:\n",
        "                    print(\"Error: Division by zero!\")\n",
        "                    continue\n",
        "            else:\n",
        "                print(\"Invalid operation!\")\n",
        "                continue\n",
        "\n",
        "            print(f\"Result: {num1} {operation} {num2} = {result}\")\n",
        "            print()\n",
        "\n",
        "        except ValueError:\n",
        "            print(\"Please enter valid numbers!\")\n",
        "        except KeyboardInterrupt:\n",
        "            print(\"\\nGoodbye!\")\n",
        "            break\n",
        "\n"
      ]
    },
    {
      "cell_type": "code",
      "execution_count": 53,
      "metadata": {
        "colab": {
          "base_uri": "https://localhost:8080/"
        },
        "id": "c4Ubf66Zq11K",
        "outputId": "ba94ddf3-6f81-47dd-8a22-8b5ea0e7c8d7"
      },
      "outputs": [
        {
          "output_type": "stream",
          "name": "stdout",
          "text": [
            "Contact Alice added successfully!\n",
            "Contact Bob added successfully!\n",
            "All Contacts:\n",
            "- Alice: 555-1234\n",
            "- Bob: 555-5678\n",
            "\n",
            "Name: Alice\n",
            "Phone: 555-1234\n",
            "Email: alice@email.com\n"
          ]
        }
      ],
      "source": [
        "# Example 2: Contact book\n",
        "class ContactBook:\n",
        "    def __init__(self):\n",
        "        self.contacts = {}\n",
        "\n",
        "    def add_contact(self, name, phone, email=\"\"):\n",
        "        self.contacts[name] = {\n",
        "            \"phone\": phone,\n",
        "            \"email\": email\n",
        "        }\n",
        "        print(f\"Contact {name} added successfully!\")\n",
        "\n",
        "    def get_contact(self, name):\n",
        "        if name in self.contacts:\n",
        "            contact = self.contacts[name]\n",
        "            print(f\"Name: {name}\")\n",
        "            print(f\"Phone: {contact['phone']}\")\n",
        "            print(f\"Email: {contact['email']}\")\n",
        "        else:\n",
        "            print(f\"Contact {name} not found!\")\n",
        "\n",
        "    def list_contacts(self):\n",
        "        if self.contacts:\n",
        "            print(\"All Contacts:\")\n",
        "            for name, info in self.contacts.items():\n",
        "                print(f\"- {name}: {info['phone']}\")\n",
        "        else:\n",
        "            print(\"No contacts found!\")\n",
        "\n",
        "# Example usage\n",
        "book = ContactBook()\n",
        "book.add_contact(\"Alice\", \"555-1234\", \"alice@email.com\")\n",
        "book.add_contact(\"Bob\", \"555-5678\")\n",
        "book.list_contacts()\n",
        "print()\n",
        "book.get_contact(\"Alice\")"
      ]
    },
    {
      "cell_type": "code",
      "execution_count": 54,
      "metadata": {
        "colab": {
          "base_uri": "https://localhost:8080/"
        },
        "id": "saO6nkNpq11K",
        "outputId": "c0bc1f70-0293-423e-a54f-24a2c8003027"
      },
      "outputs": [
        {
          "output_type": "stream",
          "name": "stdout",
          "text": [
            "Top 5 most frequent words:\n",
            "python: 5\n",
            "is: 3\n",
            "and: 2\n",
            "a: 1\n",
            "great: 1\n"
          ]
        }
      ],
      "source": [
        "# Example 3: Word frequency counter\n",
        "def count_words(text):\n",
        "    # Convert to lowercase and split into words\n",
        "    words = text.lower().split()\n",
        "\n",
        "    # Remove punctuation and count words\n",
        "    word_count = {}\n",
        "    for word in words:\n",
        "        # Remove common punctuation\n",
        "        clean_word = word.strip(\".,!?;:\")\n",
        "        if clean_word:\n",
        "            word_count[clean_word] = word_count.get(clean_word, 0) + 1\n",
        "\n",
        "    return word_count\n",
        "\n",
        "def display_word_counts(word_count, top_n=5):\n",
        "    # Sort by frequency (descending)\n",
        "    sorted_words = sorted(word_count.items(), key=lambda x: x[1], reverse=True)\n",
        "\n",
        "    print(f\"Top {top_n} most frequent words:\")\n",
        "    for word, count in sorted_words[:top_n]:\n",
        "        print(f\"{word}: {count}\")\n",
        "\n",
        "# Example usage\n",
        "sample_text = \"\"\"\n",
        "Python is a great programming language. Python is easy to learn.\n",
        "Many people love Python because Python is versatile and powerful.\n",
        "Python can be used for web development, data science, and automation.\n",
        "\"\"\"\n",
        "\n",
        "word_counts = count_words(sample_text)\n",
        "display_word_counts(word_counts)"
      ]
    }
  ],
  "metadata": {
    "kernelspec": {
      "display_name": "Python 3",
      "language": "python",
      "name": "python3"
    },
    "language_info": {
      "codemirror_mode": {
        "name": "ipython",
        "version": 3
      },
      "file_extension": ".py",
      "mimetype": "text/x-python",
      "name": "python",
      "nbconvert_exporter": "python",
      "pygments_lexer": "ipython3",
      "version": "3.8.5"
    },
    "colab": {
      "provenance": []
    }
  },
  "nbformat": 4,
  "nbformat_minor": 0
}